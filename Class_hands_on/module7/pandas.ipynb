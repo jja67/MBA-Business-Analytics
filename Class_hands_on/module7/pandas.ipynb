{
 "cells": [
  {
   "cell_type": "markdown",
   "id": "b2edf5de-0e03-4343-a6ff-4ee243602940",
   "metadata": {},
   "source": [
    "# Data analysis using pandas"
   ]
  },
  {
   "cell_type": "code",
   "execution_count": null,
   "id": "9d97ec04-0d06-4d68-9a6f-e8c96e17cdd5",
   "metadata": {},
   "outputs": [],
   "source": [
    "import pandas as pd\n",
    "from matplotlib import pyplot as plt"
   ]
  },
  {
   "cell_type": "code",
   "execution_count": null,
   "id": "f2f7cdda-b4eb-4a07-bc39-2e2e5f3a5761",
   "metadata": {},
   "outputs": [],
   "source": [
    "continents = pd.read_csv(\"continents-according-to-our-world-in-data.csv\")\n",
    "gdp = pd.read_csv(\"gdp-per-capita-maddison-project-database.csv\")\n",
    "life_expectancy = pd.read_csv(\"life-expectancy.csv\")\n",
    "population = pd.read_csv(\"population-with-un-projections.csv\")"
   ]
  },
  {
   "cell_type": "code",
   "execution_count": null,
   "id": "e692010c-9355-4a3a-801f-84d0c625e594",
   "metadata": {},
   "outputs": [],
   "source": [
    "continents.head()"
   ]
  },
  {
   "cell_type": "code",
   "execution_count": null,
   "id": "94ed5138-8111-482e-ad5e-d94573b4daa8",
   "metadata": {},
   "outputs": [],
   "source": [
    "gdp.head()"
   ]
  },
  {
   "cell_type": "markdown",
   "id": "a35e6a85-a08d-469c-91c3-4a4a16e78f46",
   "metadata": {},
   "source": [
    "## Let's start with gdp\n",
    "We can take a look at a column:"
   ]
  },
  {
   "cell_type": "code",
   "execution_count": null,
   "id": "d5c7d15a-efc5-48ce-b05f-dc277dbf3293",
   "metadata": {},
   "outputs": [],
   "source": [
    "gdp[\"Year\"]"
   ]
  },
  {
   "cell_type": "markdown",
   "id": "cbd82043-6348-4a73-a3ae-0040d397653c",
   "metadata": {},
   "source": [
    "## Check which values in the column are equal to 2022."
   ]
  },
  {
   "cell_type": "code",
   "execution_count": null,
   "id": "26082712-55c2-4159-b392-d60fc6fc3374",
   "metadata": {},
   "outputs": [],
   "source": [
    "gdp[\"Year\"] == 2022"
   ]
  },
  {
   "cell_type": "markdown",
   "id": "67069f98-00ab-4b6d-8f3b-e9365ef991c4",
   "metadata": {},
   "source": [
    "## Select only the corresponding rows."
   ]
  },
  {
   "cell_type": "code",
   "execution_count": null,
   "id": "c66a5e2b-8159-4d68-b758-3482813d676a",
   "metadata": {},
   "outputs": [],
   "source": [
    "gdp[gdp[\"Year\"] == 2022]"
   ]
  },
  {
   "cell_type": "code",
   "execution_count": null,
   "id": "77ee880a-0fcf-47e3-95ec-fb48449ca075",
   "metadata": {},
   "outputs": [],
   "source": [
    "gdp = gdp[gdp[\"Year\"] == 2022]\n",
    "gdp.head()"
   ]
  },
  {
   "cell_type": "markdown",
   "id": "dee42f3c-7ddb-44b2-8ab8-8ea5dd6d3074",
   "metadata": {},
   "source": [
    "## What are those OWID_WRL codes above?\n",
    "Let's look for rows with \"Code\" with length longer than 3."
   ]
  },
  {
   "cell_type": "code",
   "execution_count": null,
   "id": "d36948d9-2191-409a-acaa-d44752d0624e",
   "metadata": {},
   "outputs": [],
   "source": [
    "gdp[gdp[\"Code\"].str.len() > 3]"
   ]
  },
  {
   "cell_type": "markdown",
   "id": "fd2fd3ff-2d74-48a0-8109-cd8be5bd3c32",
   "metadata": {},
   "source": [
    "## Let's remove those"
   ]
  },
  {
   "cell_type": "code",
   "execution_count": null,
   "id": "c61683d1-517d-40ae-a529-85cf7bebb527",
   "metadata": {},
   "outputs": [],
   "source": [
    "gdp = gdp[gdp[\"Code\"].str.len() == 3]\n",
    "gdp.head()"
   ]
  },
  {
   "cell_type": "markdown",
   "id": "5b2f9a74-edb5-487e-842f-e7034350d40b",
   "metadata": {},
   "source": [
    "## The index isn't too useful, and we want to combine with other dataframes later"
   ]
  },
  {
   "cell_type": "code",
   "execution_count": null,
   "id": "4edfa1c8-67b9-422f-a079-cf4f7d651b22",
   "metadata": {},
   "outputs": [],
   "source": [
    "gdp = gdp.set_index(\"Code\")\n",
    "gdp.head()"
   ]
  },
  {
   "cell_type": "markdown",
   "id": "11a9ae00-b49e-4390-9038-1dc0e1dc46af",
   "metadata": {},
   "source": [
    "## Let's get rid of the last column (we'll see a different way of doing this later)."
   ]
  },
  {
   "cell_type": "code",
   "execution_count": null,
   "id": "775e8147-7fca-4455-b908-25e74897ee32",
   "metadata": {},
   "outputs": [],
   "source": [
    "gdp = gdp[[\"Entity\", \"Year\", \"GDP per capita\"]]\n",
    "gdp.head()"
   ]
  },
  {
   "cell_type": "markdown",
   "id": "ae8119c0-904a-4a41-aa50-77e6bdd85a4b",
   "metadata": {},
   "source": [
    "## Moving on to the continents"
   ]
  },
  {
   "cell_type": "code",
   "execution_count": null,
   "id": "4b60aa88-34a8-400c-b11e-f08261241dfe",
   "metadata": {},
   "outputs": [],
   "source": [
    "continents = continents[continents[\"Code\"].str.len() == 3]\n",
    "continents.head()"
   ]
  },
  {
   "cell_type": "markdown",
   "id": "d1eff97b-e60e-4830-9ff5-bd27056a687b",
   "metadata": {},
   "source": [
    "## The name of the last column is sooooo long! let's rename it!"
   ]
  },
  {
   "cell_type": "code",
   "execution_count": null,
   "id": "e9eaefdd-a8b3-46da-84ea-352b6f9e39c8",
   "metadata": {},
   "outputs": [],
   "source": [
    "continents = continents.rename({\"World regions according to OWID\": \"Region\"}, axis=1)\n",
    "continents.head()"
   ]
  },
  {
   "cell_type": "markdown",
   "id": "6d377a35-5a19-432c-9ea5-aea1aa4ae237",
   "metadata": {},
   "source": [
    "## Set the index to the Code column"
   ]
  },
  {
   "cell_type": "code",
   "execution_count": null,
   "id": "5e201086-3391-49ef-99e9-390e42ca1c36",
   "metadata": {},
   "outputs": [],
   "source": [
    "continents = continents.set_index(\"Code\")\n",
    "continents.head()"
   ]
  },
  {
   "cell_type": "markdown",
   "id": "da9f18f4-3497-4c4c-904e-904a597a2d44",
   "metadata": {},
   "source": [
    "## Now, let's combine them! with pd.merge"
   ]
  },
  {
   "cell_type": "code",
   "execution_count": null,
   "id": "25f7c64c-418a-4f57-a673-65c4327c7812",
   "metadata": {},
   "outputs": [],
   "source": [
    "df = pd.merge(continents, gdp, on=\"Code\")\n",
    "df.head()"
   ]
  },
  {
   "cell_type": "markdown",
   "id": "81f72a59-da4e-436b-890b-a95b68bdaf71",
   "metadata": {},
   "source": [
    "## Oops, we don't need to keep the year at all, and let's only keep the Entity for the continent dataframe"
   ]
  },
  {
   "cell_type": "code",
   "execution_count": null,
   "id": "43ae37d0-5ca5-471d-bd32-f8f3188ce294",
   "metadata": {},
   "outputs": [],
   "source": [
    "continents = continents.drop(\"Year\", axis=1)\n",
    "gdp = gdp.drop([\"Year\", \"Entity\"], axis=1)\n",
    "df = pd.merge(continents, gdp, on=\"Code\")\n",
    "df.head()"
   ]
  },
  {
   "cell_type": "markdown",
   "id": "6e32aa99-966e-46a2-81be-e2d3f5e6111d",
   "metadata": {},
   "source": [
    "# EXERCISE\n",
    "do the same for population and life expectancy! -> rename the fields to \"Life expectancy\" and \"Population\""
   ]
  },
  {
   "cell_type": "code",
   "execution_count": null,
   "id": "819f3c4e-4e56-4d2c-b3c1-3df170d721f5",
   "metadata": {},
   "outputs": [],
   "source": []
  },
  {
   "cell_type": "markdown",
   "id": "2c926a83-c25b-42b6-b580-e88331d72351",
   "metadata": {},
   "source": [
    "## Let's merge these with the others!"
   ]
  },
  {
   "cell_type": "code",
   "execution_count": null,
   "id": "0aea622b-e481-4352-841f-48860925276d",
   "metadata": {},
   "outputs": [],
   "source": [
    "df = pd.merge(df, life_expectancy, on=\"Code\")\n",
    "df = pd.merge(df, population, on=\"Code\")"
   ]
  },
  {
   "cell_type": "code",
   "execution_count": null,
   "id": "3a365369-137a-4770-ad72-ea2ec6af3e07",
   "metadata": {},
   "outputs": [],
   "source": [
    "df.head()"
   ]
  },
  {
   "cell_type": "code",
   "execution_count": null,
   "id": "4ec4a36d-37bd-49c9-9dc0-3e140d992918",
   "metadata": {},
   "outputs": [],
   "source": [
    "regions = list(set(df[\"Region\"]))"
   ]
  },
  {
   "cell_type": "code",
   "execution_count": null,
   "id": "8d3ce103-c7ae-4e7d-9b1b-ea0e4015a026",
   "metadata": {},
   "outputs": [],
   "source": [
    "regions.sort()\n",
    "print(regions)"
   ]
  },
  {
   "cell_type": "markdown",
   "id": "03ddb6ca-8c77-4b0f-a20c-916b79e5b4d7",
   "metadata": {},
   "source": [
    "## Pick some colors"
   ]
  },
  {
   "cell_type": "code",
   "execution_count": null,
   "id": "dbc57c40-6d62-4cf7-8d73-14cb25cb8605",
   "metadata": {
    "jupyter": {
     "source_hidden": true
    }
   },
   "outputs": [],
   "source": [
    "colors = [\"red\", \"green\", \"yellow\", \"blue\", \"violet\", \"pink\"]"
   ]
  },
  {
   "cell_type": "code",
   "execution_count": null,
   "id": "2f9a283e-6347-467c-8d96-9d4818ea8461",
   "metadata": {},
   "outputs": [],
   "source": [
    "for i in range(6):\n",
    "    print(\"plotting \" + regions[i] + \" in \" + colors[i])\n",
    "    region_frame = df[df[\"Region\"] == regions[i]]\n",
    "    region_frame = region_frame.sort_values(\"Population\")\n",
    "    \n",
    "    plt.scatter(region_frame[\"GDP per capita\"], \n",
    "                region_frame[\"Life expectancy\"], \n",
    "                s=region_frame[\"Population\"]/1000000, \n",
    "                alpha=0.5, \n",
    "                c=colors[i], \n",
    "                edgecolors=\"black\",\n",
    "                label=regions[i])\n",
    "\n",
    "\n",
    "lgnd = plt.legend()\n",
    "# making sure the sizes are the same, from https://stackoverflow.com/questions/24706125/setting-a-fixed-size-for-points-in-legend\n",
    "for handle in lgnd.legend_handles:\n",
    "    handle.set_sizes([50.0])\n",
    "    \n",
    "plt.title(\"Income and life expectancy in 2022\")\n",
    "\n",
    "# the x axis\n",
    "plt.xlabel(\"GDP per capita [USD]\")\n",
    "plt.xscale(\"log\")\n",
    "tick_values = [1000, 10000, 100000]\n",
    "tick_labels = [\"1k\", \"10k\", \"100k\"]\n",
    "plt.xticks(tick_values, tick_labels)\n",
    "plt.ylabel(\"Life expectancy\")\n",
    "plt.savefig(\"life_expectancy_2022.png\")\n",
    "plt.show()"
   ]
  },
  {
   "cell_type": "code",
   "execution_count": null,
   "id": "1f96e8bf-7c00-45bb-afb9-b0cf5203773f",
   "metadata": {},
   "outputs": [],
   "source": [
    "life_expectancy[life_expectancy<20]"
   ]
  },
  {
   "cell_type": "code",
   "execution_count": null,
   "id": "8b0b56ce-009f-4fb3-8b13-76bedb7bb4c3",
   "metadata": {},
   "outputs": [],
   "source": [
    "df.loc[\"CAF\"]"
   ]
  },
  {
   "cell_type": "code",
   "execution_count": null,
   "id": "5122812b-2547-440f-9400-6617cc949956",
   "metadata": {},
   "outputs": [],
   "source": [
    "# looks like an error (according to Google, it was about 54 years)\n",
    "df = df.drop(\"CAF\")"
   ]
  }
 ],
 "metadata": {
  "kernelspec": {
   "display_name": "Python 3 (ipykernel)",
   "language": "python",
   "name": "python3"
  },
  "language_info": {
   "codemirror_mode": {
    "name": "ipython",
    "version": 3
   },
   "file_extension": ".py",
   "mimetype": "text/x-python",
   "name": "python",
   "nbconvert_exporter": "python",
   "pygments_lexer": "ipython3",
   "version": "3.11.10"
  }
 },
 "nbformat": 4,
 "nbformat_minor": 5
}

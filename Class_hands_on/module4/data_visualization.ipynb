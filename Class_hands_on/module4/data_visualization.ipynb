{
 "cells": [
  {
   "cell_type": "markdown",
   "id": "f3c104b9-f36a-4568-9fb3-fdbed75f3774",
   "metadata": {},
   "source": [
    "# Data Visualization #\n",
    "\n",
    "Here we will visualize some data!\n",
    "\n",
    "We will be using **pandas** to load the data from file, and **matplotlib** to visualize it. More on pandas later.\n",
    "\n",
    "Make sure you have downloaded the files file_1.csv[<sup>1</sup>](#fn1) and file_2.csv[<sup>2</sup>](#fn2) from Canvas and put them in the same folder as this jupyter notebook.\n",
    "\n",
    "[<sup id=\"fn1\">1</sup>](\"fn1\") United Nations, Department of Economic and Social Affairs, Population Division (2024). World Population Prospects 2024, Online Edition.\n",
    "\n",
    "[<sup id=\"fn2\">2</sup>](\"fn2\") World Development Indicators (WDI) database, published by the World Bank; World regions and names from Our World in Data: OurWorldinData.org/world-region-map-definitions"
   ]
  },
  {
   "cell_type": "markdown",
   "id": "7b56df59-95bf-49d4-8060-6ec418214863",
   "metadata": {},
   "source": [
    "pandas and matplotlib are modules, so we need to import them."
   ]
  },
  {
   "cell_type": "code",
   "execution_count": null,
   "id": "e0643eab-7b4e-4d6d-b8e7-97eb2fcd7828",
   "metadata": {},
   "outputs": [],
   "source": [
    "import pandas as pd\n",
    "import matplotlib.pyplot as plt\n",
    "\n",
    "# this lets us show plots in the jupyter notebook\n",
    "%matplotlib inline"
   ]
  },
  {
   "cell_type": "markdown",
   "id": "202b89bc-d409-4f54-8216-ad2024fade56",
   "metadata": {},
   "source": [
    "## Line plot ##\n",
    "\n",
    "Load the population.csv file"
   ]
  },
  {
   "cell_type": "code",
   "execution_count": null,
   "id": "a8d62282-258b-4f20-8916-4dc0492cd140",
   "metadata": {},
   "outputs": [],
   "source": [
    "world_population = pd.read_csv(\"population.csv\")"
   ]
  },
  {
   "cell_type": "markdown",
   "id": "6dd5dbf3-a695-4a22-84be-f405d9c235b3",
   "metadata": {},
   "source": [
    "Let's look at some information about it."
   ]
  },
  {
   "cell_type": "code",
   "execution_count": null,
   "id": "77251fac-ffe3-4a59-9a96-9d136e059f07",
   "metadata": {},
   "outputs": [],
   "source": [
    "world_population"
   ]
  },
  {
   "cell_type": "code",
   "execution_count": null,
   "id": "20206b6d-3d66-444a-b5f7-898bd1742c20",
   "metadata": {},
   "outputs": [],
   "source": [
    "world_population.info()"
   ]
  },
  {
   "cell_type": "code",
   "execution_count": null,
   "id": "dd2c6962-664b-484f-a590-fc7b3dd782d3",
   "metadata": {},
   "outputs": [],
   "source": [
    "world_population.head()"
   ]
  },
  {
   "cell_type": "code",
   "execution_count": null,
   "id": "1b7b4f2e-ae75-4991-a88a-dff1c3a0296b",
   "metadata": {},
   "outputs": [],
   "source": [
    "plt.plot(world_population[\"Year\"], world_population[\"Population\"])\n",
    "plt.show()"
   ]
  },
  {
   "cell_type": "markdown",
   "id": "c7e6f0eb-d444-41d7-a915-2572603d4fa8",
   "metadata": {},
   "source": [
    "Let's add axes and a title!"
   ]
  },
  {
   "cell_type": "code",
   "execution_count": null,
   "id": "7d90a0f8-67f0-42a7-ad97-10c57636bf8d",
   "metadata": {},
   "outputs": [],
   "source": [
    "plt.plot(world_population[\"Year\"], world_population[\"Population\"])\n",
    "plt.xlabel(\"Year\")\n",
    "plt.ylabel(\"Population\")\n",
    "million = 1000000\n",
    "plt.yticks([0,2*million, 4*million,6*million,8*million,10*million,12*million], [0,\"2B\",\"4B\",\"6B\",\"8B\",\"10B\",\"12B\"])\n",
    "plt.title(\"World population\")\n",
    "\n",
    "plt.savefig(\"world_pop.png\")\n",
    "plt.show()"
   ]
  },
  {
   "cell_type": "markdown",
   "id": "2aed3abd-e504-4e1e-9fbb-76ebc96e2683",
   "metadata": {},
   "source": [
    "Let's save the figure to a file.\n",
    "\n",
    "Let's try and figure out when the population starts decreasing."
   ]
  },
  {
   "cell_type": "code",
   "execution_count": null,
   "id": "be7f8b44-8a0a-4c05-a797-c6b7199b8216",
   "metadata": {
    "scrolled": true
   },
   "outputs": [],
   "source": []
  },
  {
   "cell_type": "code",
   "execution_count": null,
   "id": "c21f7bc3-ef82-4b1f-ae35-612499f0b339",
   "metadata": {},
   "outputs": [],
   "source": []
  },
  {
   "cell_type": "markdown",
   "id": "ef551a4a-94ff-430d-8644-fd8b43e576ae",
   "metadata": {},
   "source": [
    "## Another plot ##\n",
    "\n",
    "Now let's make a graph of the relationship between life expectancy and gdp per capita in 2023. (Inspired by the picture from https://www.gapminder.org/answers/how-does-income-relate-to-life-expectancy/)"
   ]
  },
  {
   "cell_type": "code",
   "execution_count": null,
   "id": "a7d563b7-64ec-44a0-97be-64a7d0d481a9",
   "metadata": {},
   "outputs": [],
   "source": [
    "from IPython.display import Image\n",
    "from IPython.core.display import HTML \n",
    "\n",
    "Image(url=\"world_development.png\")"
   ]
  },
  {
   "cell_type": "code",
   "execution_count": null,
   "id": "a07f4837-bb4b-4026-88a9-9b7574d65dcb",
   "metadata": {},
   "outputs": [],
   "source": [
    "df = pd.read_csv(\"gdp_and_life_expectancy.csv\")"
   ]
  },
  {
   "cell_type": "markdown",
   "id": "52ab5a19-0d03-41dc-9ca6-2e717cc77bf4",
   "metadata": {},
   "source": [
    "Let's take a look at the data!"
   ]
  },
  {
   "cell_type": "code",
   "execution_count": null,
   "id": "2c39c904-f201-4963-981f-487f12013ca6",
   "metadata": {},
   "outputs": [],
   "source": [
    "df"
   ]
  },
  {
   "cell_type": "code",
   "execution_count": null,
   "id": "1e302f35-a607-41f4-b5c9-10768f274a35",
   "metadata": {},
   "outputs": [],
   "source": [
    "df.info()"
   ]
  },
  {
   "cell_type": "code",
   "execution_count": null,
   "id": "209754e0-f44d-478b-96c3-933e14b1de35",
   "metadata": {},
   "outputs": [],
   "source": [
    "df.head()"
   ]
  },
  {
   "cell_type": "markdown",
   "id": "50ac2420-1700-4be8-bf75-62e0d76c3507",
   "metadata": {},
   "source": [
    "The columns le_1990 and le_2023 contain the **life expectancy** in 1990 and 2023, respectively. The columns gdp_1990 and gdp_2023 contain the **gdp per capita (in USD)** in 1990 and 2023, respectively."
   ]
  },
  {
   "cell_type": "code",
   "execution_count": null,
   "id": "1a4b01e3-4189-46b0-95e0-44fc318ffda6",
   "metadata": {},
   "outputs": [],
   "source": [
    "plt.plot(df.gdp_2023, df.le_2023)\n",
    "plt.show()"
   ]
  },
  {
   "cell_type": "markdown",
   "id": "e7d8fe44-4558-4d80-b5d2-660ba14aab92",
   "metadata": {},
   "source": [
    "## Scatter Plot ##\n",
    "\n",
    "Oops. **plot** only makes sense when the points are some kind of order (like in a time series). Let's make a scatter plot instead!"
   ]
  },
  {
   "cell_type": "code",
   "execution_count": null,
   "id": "ac485ab7-9360-4392-951a-d694749a9888",
   "metadata": {},
   "outputs": [],
   "source": [
    "plt.scatter(df.gdp_2023, df.le_2023)\n",
    "plt.show()"
   ]
  },
  {
   "cell_type": "markdown",
   "id": "a03671be-7470-4231-91b7-4c90e0023140",
   "metadata": {},
   "source": [
    "Let's change the x-axis to be a log scale."
   ]
  },
  {
   "cell_type": "code",
   "execution_count": null,
   "id": "559e919e-2431-4537-bff2-3f7d01d82023",
   "metadata": {},
   "outputs": [],
   "source": [
    "plt.scatter(df.gdp_2023, df.le_2023)\n",
    "plt.semilogx()\n",
    "plt.show()"
   ]
  },
  {
   "cell_type": "markdown",
   "id": "fa127450-f4f1-498c-a28b-9a999996d8d2",
   "metadata": {},
   "source": [
    "Let's add a title and axis labels"
   ]
  },
  {
   "cell_type": "code",
   "execution_count": null,
   "id": "aa087330-9c91-4265-bd65-67f39fc3285e",
   "metadata": {},
   "outputs": [],
   "source": [
    "plt.scatter(df.gdp_2023, df.le_2023)\n",
    "plt.semilogx()\n",
    "plt.xlabel(\"GPD per capita [USD]\")\n",
    "plt.ylabel(\"Life expectancy [years]\")\n",
    "plt.title(\"Relationship between life expectancy and gdp\")\n",
    "plt.show()"
   ]
  },
  {
   "cell_type": "markdown",
   "id": "f23093b8-d51b-4fef-ac56-5c560550e4cd",
   "metadata": {},
   "source": [
    "Looks pretty nice! (We will get back to it in a bit!)"
   ]
  },
  {
   "cell_type": "markdown",
   "id": "36b4cd70-1dd8-4e07-9dd7-ca94754c6ea8",
   "metadata": {},
   "source": [
    "## Histogram ##\n",
    "Let's make a histogram of the life expectancy in 2023!"
   ]
  },
  {
   "cell_type": "code",
   "execution_count": null,
   "id": "639df94c-f2b8-4a62-bb06-3c29e0a9fd48",
   "metadata": {},
   "outputs": [],
   "source": [
    "plt.hist(df.le_2023, edgecolor=\"black\")\n",
    "plt.show()"
   ]
  },
  {
   "cell_type": "markdown",
   "id": "56958936-0414-4b49-a2c2-12dfe6ca377a",
   "metadata": {},
   "source": [
    "### Bins ###\n",
    "\n",
    "The number of bins is important. Too many bins overcomplicates the data, too few oversimplifies. The default value is 10, but let's try some other values."
   ]
  },
  {
   "cell_type": "code",
   "execution_count": null,
   "id": "a57f4b3c-dc0f-4b04-87ac-d34f30e35edd",
   "metadata": {},
   "outputs": [],
   "source": [
    "plt.hist(df.le_2023, bins=5, edgecolor=\"black\")\n",
    "plt.show()"
   ]
  },
  {
   "cell_type": "markdown",
   "id": "982ba402-46ed-44cb-abc4-2298b7b4eb17",
   "metadata": {},
   "source": [
    "We can compare it with the life expectancy in 1990 (in column le_1990)."
   ]
  },
  {
   "cell_type": "code",
   "execution_count": null,
   "id": "6a2978ce-9a2b-45c5-8fde-26cf5b500ce0",
   "metadata": {},
   "outputs": [],
   "source": [
    "import numpy as np\n",
    "print(np.histogram(df.le_1990, bins=5))\n",
    "print(np.histogram(df.le_2023, bins=5))"
   ]
  },
  {
   "cell_type": "code",
   "execution_count": null,
   "id": "eb537bb6-bce1-44b4-9a54-a8489fd1ad02",
   "metadata": {},
   "outputs": [],
   "source": [
    "plt.hist(df.le_2023, bins=5, alpha=0.5)\n",
    "plt.hist(df.le_1990, bins=5, alpha=0.5)\n",
    "plt.savefig(\"test2.png\")\n",
    "plt.show()"
   ]
  },
  {
   "cell_type": "markdown",
   "id": "fcd5f745-75a0-4241-b74f-b06d04f84631",
   "metadata": {},
   "source": [
    "### Now on to Exercise! ###"
   ]
  },
  {
   "cell_type": "code",
   "execution_count": null,
   "id": "1078436b-b41e-4936-b10c-8fab96842a99",
   "metadata": {},
   "outputs": [],
   "source": []
  }
 ],
 "metadata": {
  "kernelspec": {
   "display_name": "Python 3 (ipykernel)",
   "language": "python",
   "name": "python3"
  },
  "language_info": {
   "codemirror_mode": {
    "name": "ipython",
    "version": 3
   },
   "file_extension": ".py",
   "mimetype": "text/x-python",
   "name": "python",
   "nbconvert_exporter": "python",
   "pygments_lexer": "ipython3",
   "version": "3.13.3"
  }
 },
 "nbformat": 4,
 "nbformat_minor": 5
}

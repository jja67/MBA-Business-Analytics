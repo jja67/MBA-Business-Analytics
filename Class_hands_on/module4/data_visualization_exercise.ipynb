{
 "cells": [
  {
   "cell_type": "markdown",
   "id": "2b9109f0-d3ad-419a-bfd2-50a34aed2443",
   "metadata": {},
   "source": [
    "# Exercise #\n",
    "\n",
    "Let's continue recreating the graph at https://www.gapminder.org/answers/how-does-income-relate-to-life-expectancy/\n",
    "\n",
    "Start by importing pandas and matplotlib"
   ]
  },
  {
   "cell_type": "code",
   "execution_count": 1,
   "id": "f7914e88-00aa-499d-91d8-f605455f5372",
   "metadata": {},
   "outputs": [],
   "source": [
    "import pandas as pd\n",
    "import matplotlib.pyplot as plt\n",
    "\n",
    "%matplotlib inline"
   ]
  },
  {
   "cell_type": "markdown",
   "id": "88c00d65-a6ef-475e-a3b9-2f7591c028ac",
   "metadata": {},
   "source": [
    "### Then load the file! ###"
   ]
  },
  {
   "cell_type": "code",
   "execution_count": 2,
   "id": "55e3ee6f-4078-497b-8a67-b2f9af0252ff",
   "metadata": {},
   "outputs": [],
   "source": [
    "df = pd.read_csv(\"gdp_and_life_expectancy.csv\")"
   ]
  },
  {
   "cell_type": "markdown",
   "id": "fefbe593-6fd8-4f41-998f-5c05c2dfb211",
   "metadata": {},
   "source": [
    "### Make the scatterplot we made before (copy the code here) ###"
   ]
  },
  {
   "cell_type": "code",
   "execution_count": null,
   "id": "cffe5fa4-f3e5-465e-8851-ec170f9987b2",
   "metadata": {},
   "outputs": [],
   "source": []
  },
  {
   "cell_type": "markdown",
   "id": "127b8a50-b3ab-4dcf-9055-50e04d760f83",
   "metadata": {},
   "source": [
    "### Change the sizes of the dots by passing the argument \"s=df.pop_2023\" ###"
   ]
  },
  {
   "cell_type": "code",
   "execution_count": null,
   "id": "27eff233-166c-4be9-b445-8f33644519ec",
   "metadata": {},
   "outputs": [],
   "source": []
  },
  {
   "cell_type": "markdown",
   "id": "888ff24e-0235-4dc6-8e48-b9ae1076e4ac",
   "metadata": {},
   "source": [
    "### The dots are way too big. Change it to \"s=df.pop_2023/???\" until it is small enough to look ok. ###"
   ]
  },
  {
   "cell_type": "code",
   "execution_count": null,
   "id": "7412736e-02d3-49f6-8ccf-2962aeed1ade",
   "metadata": {},
   "outputs": [],
   "source": []
  },
  {
   "cell_type": "markdown",
   "id": "900e9c38-5647-46a3-b0d9-d86dadebeecd",
   "metadata": {},
   "source": [
    "### Change the transparency of the dots using \"alpha=?\", with ? between 0 and 1. ###"
   ]
  },
  {
   "cell_type": "code",
   "execution_count": null,
   "id": "d7cbefec-eeef-4056-88e4-f4bd904f490d",
   "metadata": {},
   "outputs": [],
   "source": []
  },
  {
   "cell_type": "markdown",
   "id": "69719837-265d-4f95-a41c-f8b656d16879",
   "metadata": {},
   "source": [
    "### Change the colors of the dots with \"c=df.Color\" ###"
   ]
  },
  {
   "cell_type": "code",
   "execution_count": null,
   "id": "a73895b4-2d2e-4ffc-84f9-023a7c3d8e12",
   "metadata": {},
   "outputs": [],
   "source": []
  },
  {
   "cell_type": "markdown",
   "id": "3704a851-9651-4bcc-9d19-5c8737ef00b1",
   "metadata": {},
   "source": [
    "### Give the dots an outline with edgecolors=\"black\" ###"
   ]
  },
  {
   "cell_type": "code",
   "execution_count": null,
   "id": "6f2b408d-c390-400b-8f51-cc57290f87ad",
   "metadata": {},
   "outputs": [],
   "source": []
  },
  {
   "cell_type": "markdown",
   "id": "3411f436-39a0-4b6a-b2d7-719ef45461ce",
   "metadata": {},
   "source": [
    "### If you want, change the thickness of the outline with \"linewidth=?\" (try ? between 0 and 1) ###"
   ]
  },
  {
   "cell_type": "code",
   "execution_count": null,
   "id": "f1a531e8-658b-4111-9a52-bebacf559d90",
   "metadata": {},
   "outputs": [],
   "source": []
  },
  {
   "cell_type": "markdown",
   "id": "ef42cdee-f84f-49cd-8ae9-061691f518cd",
   "metadata": {},
   "source": [
    "### Add a title and x and y labels as before ###"
   ]
  },
  {
   "cell_type": "code",
   "execution_count": null,
   "id": "e4c360f5-6d08-4997-b945-db6e69260271",
   "metadata": {},
   "outputs": [],
   "source": []
  },
  {
   "cell_type": "markdown",
   "id": "10cbcfd8-37a8-4a01-b8a6-b8aa1ec579fa",
   "metadata": {},
   "source": [
    "### Change the ticks with ###"
   ]
  },
  {
   "cell_type": "code",
   "execution_count": null,
   "id": "8cd4fd30-f429-489d-a500-f9a70de9331e",
   "metadata": {},
   "outputs": [],
   "source": [
    "tick_values = [1000, 10000, 100000]\n",
    "tick_labels = [\"1k\", \"10k\", \"100k\"]\n",
    "plt.xticks(tick_values, tick_labels)"
   ]
  },
  {
   "cell_type": "code",
   "execution_count": null,
   "id": "20d6733d-413a-45bb-ab31-a110f2ee2c33",
   "metadata": {},
   "outputs": [],
   "source": []
  },
  {
   "cell_type": "markdown",
   "id": "9ce28f11-3c44-43c4-a9eb-a19fe2c56169",
   "metadata": {},
   "source": [
    "### Save the file as before ###"
   ]
  },
  {
   "cell_type": "code",
   "execution_count": null,
   "id": "ce6a8a16-3b77-4264-bc11-3ef34fab2772",
   "metadata": {},
   "outputs": [],
   "source": []
  },
  {
   "cell_type": "markdown",
   "id": "2b67f3f9-793d-4cbf-962c-92558bdca8e1",
   "metadata": {},
   "source": [
    "### Try again with the columns for 1990! ###"
   ]
  },
  {
   "cell_type": "code",
   "execution_count": null,
   "id": "983cf12f-8763-414e-93de-041f7a0135de",
   "metadata": {},
   "outputs": [],
   "source": []
  }
 ],
 "metadata": {
  "kernelspec": {
   "display_name": "Python 3 (ipykernel)",
   "language": "python",
   "name": "python3"
  },
  "language_info": {
   "codemirror_mode": {
    "name": "ipython",
    "version": 3
   },
   "file_extension": ".py",
   "mimetype": "text/x-python",
   "name": "python",
   "nbconvert_exporter": "python",
   "pygments_lexer": "ipython3",
   "version": "3.13.3"
  }
 },
 "nbformat": 4,
 "nbformat_minor": 5
}

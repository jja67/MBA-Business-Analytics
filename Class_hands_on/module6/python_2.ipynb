{
 "cells": [
  {
   "cell_type": "markdown",
   "id": "b6d24b0c-9a37-46ef-9ba6-2790a9a431cc",
   "metadata": {},
   "source": [
    "# More Python\n",
    "We will learn about logical statements, if statements, lists and for loops. At the end you will have seen enough of Python to (technically) be able to write any program you might want to (but learning more will make that easier!).\n",
    "## Comparisons\n",
    "- `==` equal\n",
    "- `!=` not equal\n",
    "- `>` greater than\n",
    "- `<` less than\n",
    "- `>=` greater than or equal to\n",
    "- `<=` less than or equal to"
   ]
  },
  {
   "cell_type": "code",
   "execution_count": 1,
   "id": "c37a5770-a52d-4786-9973-ac602b612f99",
   "metadata": {},
   "outputs": [
    {
     "name": "stdout",
     "output_type": "stream",
     "text": [
      "False\n",
      "True\n",
      "False\n",
      "False\n",
      "True\n",
      "False\n",
      "True\n",
      "True\n",
      "True\n"
     ]
    }
   ],
   "source": [
    "print(2 == 3)\n",
    "print(2 == 2.0)\n",
    "print(2 == \"2\")\n",
    "print(\"python\" == \"Python\")\n",
    "print(10 != 11)\n",
    "print(3 > 5)\n",
    "print(23.3 < 24)\n",
    "print(10 >= 9.0)\n",
    "print(100.1 <= 101.1)"
   ]
  },
  {
   "cell_type": "markdown",
   "id": "9281e8c9-a0a5-4149-bd2d-93510baf54ea",
   "metadata": {},
   "source": [
    "Of course, it's more interesting if it involves variables. Suppose we read `age_1` and `age_2` from a file"
   ]
  },
  {
   "cell_type": "code",
   "execution_count": 2,
   "id": "49adf1cc-d8a3-479d-9af8-dd4cf3401812",
   "metadata": {},
   "outputs": [
    {
     "name": "stdout",
     "output_type": "stream",
     "text": [
      "False\n",
      "True\n",
      "True\n",
      "True\n",
      "False\n"
     ]
    }
   ],
   "source": [
    "age_1 = 20\n",
    "age_2 = 17\n",
    "print(age_1 == age_2)\n",
    "print(age_1 != age_2)\n",
    "print(age_1 >= age_2)\n",
    "print(age_1 >= 18)\n",
    "print(age_2 >= 18)"
   ]
  },
  {
   "cell_type": "markdown",
   "id": "c72512c0-eec5-4eb6-88f9-37ef1a181448",
   "metadata": {},
   "source": [
    "## Logical statements\n",
    "- `x and y` is `True` if both `x` and `y` are.\n",
    "- `x or y` is `True` if at least one of `x` and `y` are.\n",
    "- `not x` is `True` if `x` is `False`.\n"
   ]
  },
  {
   "cell_type": "code",
   "execution_count": 3,
   "id": "eae43548-15f4-499a-958f-61144b8c5024",
   "metadata": {},
   "outputs": [
    {
     "name": "stdout",
     "output_type": "stream",
     "text": [
      "True\n",
      "False\n",
      "True\n"
     ]
    }
   ],
   "source": [
    "age = 16\n",
    "height = 145\n",
    "print(age > 10 and height > 130)\n",
    "print(age > 10 and height > 150)\n",
    "print(age > 10 or height > 150)"
   ]
  },
  {
   "cell_type": "markdown",
   "id": "f31fc9a3-ba5b-4bb1-9a28-49376d0b478b",
   "metadata": {},
   "source": [
    "## if statement \n",
    "Think flowchart\n"
   ]
  },
  {
   "cell_type": "raw",
   "id": "56d22caf-48de-485e-9f0b-d41159f428ad",
   "metadata": {},
   "source": [
    "if logical_statement:\n",
    "    do this # (indented four spaces)\n",
    "elif logical_statement: # optional (any number) can be completely unrelated, but usually related \n",
    "    do this\n",
    "else: # also optional\n",
    "    do this"
   ]
  },
  {
   "cell_type": "code",
   "execution_count": 8,
   "id": "75b7ce66-ec24-43ab-9648-ee9d590381f0",
   "metadata": {},
   "outputs": [
    {
     "name": "stdout",
     "output_type": "stream",
     "text": [
      "none\n"
     ]
    }
   ],
   "source": [
    "import datetime\n",
    "if datetime.date.today() > datetime.date(2025, 7, 12):\n",
    "    print(\"I hope you're having fun reviewing!\")\n",
    "\n",
    "else:\n",
    "    print(\"none\")"
   ]
  },
  {
   "cell_type": "markdown",
   "id": "83cba321-2c75-43aa-8279-9b5de2b1c458",
   "metadata": {},
   "source": [
    "## Example\n",
    "Suppose there's a rollercoaster you need to be at least 10 years old and 130 cm tall to ride."
   ]
  },
  {
   "cell_type": "code",
   "execution_count": 9,
   "id": "e783a064-56b6-4e50-a3da-0ac851d1b45e",
   "metadata": {},
   "outputs": [
    {
     "name": "stdout",
     "output_type": "stream",
     "text": [
      "you can ride the rollercoaster!\n"
     ]
    }
   ],
   "source": [
    "age = 16\n",
    "height = 145\n",
    "\n",
    "if age >= 10 and height >= 130:\n",
    "    print(\"you can ride the rollercoaster!\")"
   ]
  },
  {
   "cell_type": "code",
   "execution_count": 10,
   "id": "029ee46f-ef79-4283-b91a-85ad839b62be",
   "metadata": {},
   "outputs": [
    {
     "name": "stdout",
     "output_type": "stream",
     "text": [
      "you're both too young and too short\n"
     ]
    }
   ],
   "source": [
    "age = 9\n",
    "height = 125\n",
    "\n",
    "if age >= 10 and height >= 130:\n",
    "    print(\"you can ride the rollercoaster!\")\n",
    "elif age >= 10 and not height >= 130:\n",
    "    print(\"you're too short\")\n",
    "elif not age >= 10 and height >= 130:\n",
    "    print(\"you're too young\")\n",
    "else:\n",
    "    print(\"you're both too young and too short\")"
   ]
  },
  {
   "cell_type": "markdown",
   "id": "45661db7-a281-4dda-ac42-927c02c24249",
   "metadata": {},
   "source": [
    "## Example\n",
    "Let's find the maximum of two ages."
   ]
  },
  {
   "cell_type": "code",
   "execution_count": 11,
   "id": "006e176a-37ec-48a4-98b8-26dec1d017e1",
   "metadata": {},
   "outputs": [
    {
     "name": "stdout",
     "output_type": "stream",
     "text": [
      "age_1 is not bigger than age_2, so either they are equal, or age_2 is bigger. In both cases the max age is equal to age_2\n",
      "max is:\n",
      "31\n"
     ]
    }
   ],
   "source": [
    "# max\n",
    "age_1 = 25\n",
    "age_2 = 31\n",
    "if age_1 > age_2:\n",
    "    print(\"age_1 is bigger than age_2, so the max age is age_1\")\n",
    "    max_age = age_1\n",
    "else:\n",
    "    print(\"age_1 is not bigger than age_2, so either they are equal, or age_2 is bigger. In both cases the max age is equal to age_2\")\n",
    "    max_age = age_2\n",
    "print(\"max is:\")\n",
    "print(max_age)"
   ]
  },
  {
   "cell_type": "markdown",
   "id": "b62d4fae-3ddb-4335-8191-9303f9dd9f7f",
   "metadata": {},
   "source": [
    "## EXERCISE: \n",
    "- 80 -- 100: A, \n",
    "- 68 -- 79: B, \n",
    "- 60 -- 67: C, \n",
    "- below 60 FAIL, \n",
    "write answer in livechat when you're done!"
   ]
  },
  {
   "cell_type": "code",
   "execution_count": 35,
   "id": "d19ff48b-28d7-48d7-9bab-c101d4742cf3",
   "metadata": {},
   "outputs": [
    {
     "name": "stdout",
     "output_type": "stream",
     "text": [
      "B\n"
     ]
    }
   ],
   "source": [
    "grade_percentage = 101\n",
    "\n",
    "if grade_percentage >= 80 and grade_percentage <= 100:\n",
    "    grade = \"A\"\n",
    "elif grade_percentage >= 68:\n",
    "    grade = \"B\"\n",
    "elif grade_percentage >= 60:\n",
    "    grade = \"C\"\n",
    "else:\n",
    "    grade = \"FAIL or N/A\"\n",
    "\n",
    "print(grade)"
   ]
  },
  {
   "cell_type": "markdown",
   "id": "75bdd775-64f9-4f7d-886b-0e8910e60020",
   "metadata": {},
   "source": [
    "## Lists\n",
    "Another type. Elements are surrounded by square brackets and separated by commas.\n",
    "\n",
    "Useful for \n",
    "- repeating actions (given a list of file names, load each into pandas and do stuff)\n",
    "- aggregating things (sum a list of numbers, find the maximum)"
   ]
  },
  {
   "cell_type": "code",
   "execution_count": 13,
   "id": "4d668171-0c78-43d7-bee4-b6f1afebbcbb",
   "metadata": {},
   "outputs": [
    {
     "name": "stdout",
     "output_type": "stream",
     "text": [
      "[78.4, 116.3, 109.8, 265.3, 136.4]\n"
     ]
    }
   ],
   "source": [
    "room_areas = [78.4, 116.3, 109.8, 265.3, 136.4]\n",
    "print(room_areas)"
   ]
  },
  {
   "cell_type": "markdown",
   "id": "21f8f22e-461e-4268-a457-dfb8fd9c2a5c",
   "metadata": {},
   "source": [
    "## Indexing\n",
    "The first element has index 0. "
   ]
  },
  {
   "cell_type": "code",
   "execution_count": 14,
   "id": "94750f16-aa81-4a94-92f3-74fe21cc594f",
   "metadata": {},
   "outputs": [
    {
     "name": "stdout",
     "output_type": "stream",
     "text": [
      "78.4\n",
      "265.3\n",
      "136.4\n"
     ]
    }
   ],
   "source": [
    "print(room_areas[0])\n",
    "print(room_areas[3])\n",
    "print(room_areas[-1]) # last element"
   ]
  },
  {
   "cell_type": "markdown",
   "id": "4c91d32d-c695-4515-8f9c-cd069c3fd8df",
   "metadata": {},
   "source": [
    "`append` adds another element to the list. `+` concatenates two lists."
   ]
  },
  {
   "cell_type": "code",
   "execution_count": 15,
   "id": "10726c3f-6a71-4392-b0c8-cc2a07cdb24a",
   "metadata": {},
   "outputs": [],
   "source": [
    "room_areas.append(121.2)"
   ]
  },
  {
   "cell_type": "code",
   "execution_count": 16,
   "id": "99e7f814-79ca-48ad-9943-2eb9a2d532f1",
   "metadata": {},
   "outputs": [
    {
     "name": "stdout",
     "output_type": "stream",
     "text": [
      "[78.4, 116.3, 109.8, 265.3, 136.4, 121.2]\n"
     ]
    }
   ],
   "source": [
    "print(room_areas)"
   ]
  },
  {
   "cell_type": "code",
   "execution_count": 17,
   "id": "c23d19e9-4732-4905-906a-e350b2aea9a1",
   "metadata": {},
   "outputs": [],
   "source": [
    "more_room_areas = [208.4, 140.0, 89.2, 98.3, 70.4]"
   ]
  },
  {
   "cell_type": "code",
   "execution_count": 18,
   "id": "6db6dc9f-e798-41fe-b963-c52c1c6524a9",
   "metadata": {},
   "outputs": [
    {
     "name": "stdout",
     "output_type": "stream",
     "text": [
      "[78.4, 116.3, 109.8, 265.3, 136.4, 121.2, 208.4, 140.0, 89.2, 98.3, 70.4]\n"
     ]
    }
   ],
   "source": [
    "print(room_areas + more_room_areas)"
   ]
  },
  {
   "cell_type": "markdown",
   "id": "b9bdcc58-6984-407f-bcc6-f729c5a09943",
   "metadata": {},
   "source": [
    "# range\n",
    "`list(range(x))` creates a list of the numbers from `0` to `x-1`. Often useful!"
   ]
  },
  {
   "cell_type": "code",
   "execution_count": 19,
   "id": "9c8c6cef-0c87-435f-bd1d-84e0236ffbea",
   "metadata": {},
   "outputs": [
    {
     "name": "stdout",
     "output_type": "stream",
     "text": [
      "[0, 1, 2, 3, 4, 5, 6, 7, 8, 9]\n",
      "[3, 4, 5, 6, 7, 8, 9]\n",
      "[3, 5, 7, 9]\n"
     ]
    }
   ],
   "source": [
    "print(list(range(10)))\n",
    "print(list(range(3,10)))\n",
    "print(list(range(3, 10, 2)))"
   ]
  },
  {
   "cell_type": "markdown",
   "id": "3dbd5013-d4d6-4535-80b7-76e714b27944",
   "metadata": {},
   "source": [
    "## for loops\n",
    "(like \"for each\" loops in some other languages). "
   ]
  },
  {
   "cell_type": "raw",
   "id": "6f560d92-033c-4927-a0f9-0a8582e8ce0b",
   "metadata": {},
   "source": [
    "for x in list:\n",
    "    do stuff"
   ]
  },
  {
   "cell_type": "markdown",
   "id": "432f6924-9c16-47e2-ba9f-5ff61570807b",
   "metadata": {},
   "source": [
    "Sets `x` to the first element (i.e., 0th) in the list and does stuff then sets `x` to the second element in the list and does stuff, and so on"
   ]
  },
  {
   "cell_type": "markdown",
   "id": "9be0fab4-439a-4421-975e-6db1aee594ad",
   "metadata": {},
   "source": [
    "## Example\n",
    "I have 500 dollars in a bank account, with 10% interest. But now theres a 10 dollar fee at the end of each year. How much will have after 10 years?"
   ]
  },
  {
   "cell_type": "code",
   "execution_count": 22,
   "id": "965b9235-4e4d-4389-8ab5-b8b0e4e524b9",
   "metadata": {},
   "outputs": [
    {
     "name": "stdout",
     "output_type": "stream",
     "text": [
      "[0, 1, 2, 3, 4, 5, 6, 7, 8, 9]\n",
      "at the end of year 0 we have 540.00\n",
      "at the end of year 1 we have 584.00\n",
      "at the end of year 2 we have 632.40\n",
      "at the end of year 3 we have 685.64\n",
      "at the end of year 4 we have 744.20\n",
      "at the end of year 5 we have 808.62\n",
      "at the end of year 6 we have 879.49\n",
      "at the end of year 7 we have 957.44\n",
      "at the end of year 8 we have 1043.18\n",
      "at the end of year 9 we have 1137.50\n"
     ]
    }
   ],
   "source": [
    "# interest example\n",
    "# 500 dollars, 10% interest, 10 years. \n",
    "# 10 dollar fee! due at the end of the year\n",
    "starting_amount = 500\n",
    "years = list(range(10))\n",
    "print(years)\n",
    "interest_rate = 1.10\n",
    "fee = 10\n",
    "\n",
    "current_amount = starting_amount\n",
    "for year in years:\n",
    "    current_amount = current_amount * interest_rate - fee\n",
    "#    print(\"at the end of year \" + str(year) + \" we have \" + str(current_amount))  # we need to limit decimal to 2 to make output clean\n",
    "    print(\"at the end of year \" + str(year) + \" we have \" + \"{:.2f}\".format(current_amount))\n"
   ]
  },
  {
   "cell_type": "markdown",
   "id": "35e217a2-6733-4f63-9593-b9a3fb1cdfe8",
   "metadata": {},
   "source": [
    "## EXERCISE\n",
    "Compute the number of rooms"
   ]
  },
  {
   "cell_type": "code",
   "execution_count": null,
   "id": "bbe02ff8-1907-4853-908f-0d848324ca87",
   "metadata": {},
   "outputs": [],
   "source": [
    "room_areas = [78.4, 116.3, 109.8, 265.3, 136.4, 208.4, 140.0, 89.2, 98.3, 70.4]\n",
    "\n",
    "number_of_rooms = 0\n",
    "for area in room_areas:\n",
    "    number_of_rooms += 1\n",
    "print(number_of_rooms)"
   ]
  },
  {
   "cell_type": "markdown",
   "id": "d08a18f4-a44f-4ac0-8d94-c1ca4e33bdc1",
   "metadata": {},
   "source": [
    "## EXERCISE\n",
    "Compute the total area"
   ]
  },
  {
   "cell_type": "code",
   "execution_count": 25,
   "id": "eb6af128-ca62-4b80-88c7-9ec643ed6745",
   "metadata": {},
   "outputs": [
    {
     "name": "stdout",
     "output_type": "stream",
     "text": [
      "the total area is1312.5\n"
     ]
    }
   ],
   "source": [
    "room_areas = [78.4, 116.3, 109.8, 265.3, 136.4, 208.4, 140.0, 89.2, 98.3, 70.4]\n",
    "\n",
    "total_area = 0\n",
    "for area in room_areas:\n",
    "    total_area += area\n",
    "print(\"the total area is\" + str(total_area))\n"
   ]
  },
  {
   "cell_type": "markdown",
   "id": "137ea53c-9e2e-40a6-8885-709e6d68bcd0",
   "metadata": {},
   "source": [
    "## EXERCISE\n",
    "Find the area of the largest room"
   ]
  },
  {
   "cell_type": "code",
   "execution_count": null,
   "id": "fd73399e-a589-4ac2-9a07-b71b57c4e22f",
   "metadata": {},
   "outputs": [],
   "source": [
    "# largest room\n",
    "room_areas = [78.4, 116.3, 109.8, 265.3, 136.4, 208.4, 140.0, 89.2, 98.3, 70.4]\n",
    "\n",
    "max_area = 0\n",
    "for area in room_areas:\n",
    "    if area > max_area:\n",
    "        max_area = area\n",
    "    else:\n",
    "        None\n",
    "print(\"the largest room's area is \" + str(max_area))\n",
    "\n"
   ]
  },
  {
   "cell_type": "code",
   "execution_count": 27,
   "id": "b49e40e3-611b-45cd-9742-d80ea6aeb955",
   "metadata": {},
   "outputs": [
    {
     "name": "stdout",
     "output_type": "stream",
     "text": [
      "[116.3, 109.8, 265.3, 136.4, 208.4, 140.0]\n"
     ]
    }
   ],
   "source": [
    "room_areas = [78.4, 116.3, 109.8, 265.3, 136.4, 208.4, 140.0, 89.2, 98.3, 70.4]\n",
    "large_areas = []\n",
    "for area in room_areas:\n",
    "    if area > 100:\n",
    "        large_areas.append(area)\n",
    "print(large_areas)"
   ]
  },
  {
   "cell_type": "code",
   "execution_count": null,
   "id": "3b495bed-9222-4b74-b86b-b1679e553bc1",
   "metadata": {},
   "outputs": [],
   "source": [
    "# methods and functions\n",
    "# these things are things you often want, shouldn't write them yourself (other than to practice)\n",
    "# functions: min, max, sum, also work for other things -- fun if you use them as variables\n",
    "# in-operator, +\n",
    "# methods -- part of lists\n",
    "# index, append, sort, reverse"
   ]
  },
  {
   "cell_type": "markdown",
   "id": "6c0da3a2-6395-47fb-af8f-77168a21cf8f",
   "metadata": {},
   "source": [
    "## Methods and functions\n",
    "Of course, many of the above things are really useful, and you shouldn't write them yourself (other than as practice)\n",
    "\n",
    "### Functions\n",
    "The `min`, `max`, `sum` functions and the `in` operator also work for things other than lists. Be careful about naming a variable `max`\n",
    "\n",
    "### Methods\n",
    "`index`, `append`, `sort` and `reverse` are only for lists."
   ]
  },
  {
   "cell_type": "code",
   "execution_count": 28,
   "id": "f784d3c9-242c-49c8-a90e-70626275bac0",
   "metadata": {},
   "outputs": [
    {
     "name": "stdout",
     "output_type": "stream",
     "text": [
      "70.4\n",
      "265.3\n",
      "1312.5\n",
      "True\n",
      "False\n",
      "2\n"
     ]
    }
   ],
   "source": [
    "# useful things\n",
    "# min, max, sum, in, index\n",
    "# sort, reverse\n",
    "print(min(room_areas))\n",
    "print(max(room_areas))\n",
    "print(sum(room_areas))\n",
    "print(116.3 in room_areas)\n",
    "print(117.0 in room_areas)\n",
    "print(room_areas.index(109.8)) # error if not in list"
   ]
  },
  {
   "cell_type": "code",
   "execution_count": 29,
   "id": "3a3a9dd8-ccdc-445a-ad67-1ffb09a86f8a",
   "metadata": {},
   "outputs": [],
   "source": [
    "# check out help(list)"
   ]
  },
  {
   "cell_type": "code",
   "execution_count": 30,
   "id": "2d88d496-679a-48dc-8bd5-06daf83a1d71",
   "metadata": {},
   "outputs": [
    {
     "name": "stdout",
     "output_type": "stream",
     "text": [
      "Help on class list in module builtins:\n",
      "\n",
      "class list(object)\n",
      " |  list(iterable=(), /)\n",
      " |  \n",
      " |  Built-in mutable sequence.\n",
      " |  \n",
      " |  If no argument is given, the constructor creates a new empty list.\n",
      " |  The argument must be an iterable if specified.\n",
      " |  \n",
      " |  Methods defined here:\n",
      " |  \n",
      " |  __add__(self, value, /)\n",
      " |      Return self+value.\n",
      " |  \n",
      " |  __contains__(self, key, /)\n",
      " |      Return key in self.\n",
      " |  \n",
      " |  __delitem__(self, key, /)\n",
      " |      Delete self[key].\n",
      " |  \n",
      " |  __eq__(self, value, /)\n",
      " |      Return self==value.\n",
      " |  \n",
      " |  __ge__(self, value, /)\n",
      " |      Return self>=value.\n",
      " |  \n",
      " |  __getattribute__(self, name, /)\n",
      " |      Return getattr(self, name).\n",
      " |  \n",
      " |  __getitem__(...)\n",
      " |      x.__getitem__(y) <==> x[y]\n",
      " |  \n",
      " |  __gt__(self, value, /)\n",
      " |      Return self>value.\n",
      " |  \n",
      " |  __iadd__(self, value, /)\n",
      " |      Implement self+=value.\n",
      " |  \n",
      " |  __imul__(self, value, /)\n",
      " |      Implement self*=value.\n",
      " |  \n",
      " |  __init__(self, /, *args, **kwargs)\n",
      " |      Initialize self.  See help(type(self)) for accurate signature.\n",
      " |  \n",
      " |  __iter__(self, /)\n",
      " |      Implement iter(self).\n",
      " |  \n",
      " |  __le__(self, value, /)\n",
      " |      Return self<=value.\n",
      " |  \n",
      " |  __len__(self, /)\n",
      " |      Return len(self).\n",
      " |  \n",
      " |  __lt__(self, value, /)\n",
      " |      Return self<value.\n",
      " |  \n",
      " |  __mul__(self, value, /)\n",
      " |      Return self*value.\n",
      " |  \n",
      " |  __ne__(self, value, /)\n",
      " |      Return self!=value.\n",
      " |  \n",
      " |  __repr__(self, /)\n",
      " |      Return repr(self).\n",
      " |  \n",
      " |  __reversed__(self, /)\n",
      " |      Return a reverse iterator over the list.\n",
      " |  \n",
      " |  __rmul__(self, value, /)\n",
      " |      Return value*self.\n",
      " |  \n",
      " |  __setitem__(self, key, value, /)\n",
      " |      Set self[key] to value.\n",
      " |  \n",
      " |  __sizeof__(self, /)\n",
      " |      Return the size of the list in memory, in bytes.\n",
      " |  \n",
      " |  append(self, object, /)\n",
      " |      Append object to the end of the list.\n",
      " |  \n",
      " |  clear(self, /)\n",
      " |      Remove all items from list.\n",
      " |  \n",
      " |  copy(self, /)\n",
      " |      Return a shallow copy of the list.\n",
      " |  \n",
      " |  count(self, value, /)\n",
      " |      Return number of occurrences of value.\n",
      " |  \n",
      " |  extend(self, iterable, /)\n",
      " |      Extend list by appending elements from the iterable.\n",
      " |  \n",
      " |  index(self, value, start=0, stop=9223372036854775807, /)\n",
      " |      Return first index of value.\n",
      " |      \n",
      " |      Raises ValueError if the value is not present.\n",
      " |  \n",
      " |  insert(self, index, object, /)\n",
      " |      Insert object before index.\n",
      " |  \n",
      " |  pop(self, index=-1, /)\n",
      " |      Remove and return item at index (default last).\n",
      " |      \n",
      " |      Raises IndexError if list is empty or index is out of range.\n",
      " |  \n",
      " |  remove(self, value, /)\n",
      " |      Remove first occurrence of value.\n",
      " |      \n",
      " |      Raises ValueError if the value is not present.\n",
      " |  \n",
      " |  reverse(self, /)\n",
      " |      Reverse *IN PLACE*.\n",
      " |  \n",
      " |  sort(self, /, *, key=None, reverse=False)\n",
      " |      Sort the list in ascending order and return None.\n",
      " |      \n",
      " |      The sort is in-place (i.e. the list itself is modified) and stable (i.e. the\n",
      " |      order of two equal elements is maintained).\n",
      " |      \n",
      " |      If a key function is given, apply it once to each list item and sort them,\n",
      " |      ascending or descending, according to their function values.\n",
      " |      \n",
      " |      The reverse flag can be set to sort in descending order.\n",
      " |  \n",
      " |  ----------------------------------------------------------------------\n",
      " |  Class methods defined here:\n",
      " |  \n",
      " |  __class_getitem__(...)\n",
      " |      See PEP 585\n",
      " |  \n",
      " |  ----------------------------------------------------------------------\n",
      " |  Static methods defined here:\n",
      " |  \n",
      " |  __new__(*args, **kwargs)\n",
      " |      Create and return a new object.  See help(type) for accurate signature.\n",
      " |  \n",
      " |  ----------------------------------------------------------------------\n",
      " |  Data and other attributes defined here:\n",
      " |  \n",
      " |  __hash__ = None\n",
      "\n"
     ]
    }
   ],
   "source": [
    "help(list)"
   ]
  },
  {
   "cell_type": "code",
   "execution_count": 32,
   "id": "69478220-2d1a-4aa6-a520-256d16765d5f",
   "metadata": {},
   "outputs": [
    {
     "name": "stdout",
     "output_type": "stream",
     "text": [
      "[70.4, 78.4, 89.2, 98.3, 109.8, 116.3, 136.4, 140.0, 208.4, 265.3]\n"
     ]
    }
   ],
   "source": [
    "room_areas.sort()\n",
    "print(room_areas)"
   ]
  },
  {
   "cell_type": "code",
   "execution_count": null,
   "id": "4bab6bdb-1135-4b34-b647-458e1dd877af",
   "metadata": {},
   "outputs": [],
   "source": [
    "room_areas"
   ]
  },
  {
   "cell_type": "code",
   "execution_count": 33,
   "id": "56bcc5b0-7521-4aea-958e-47989717b731",
   "metadata": {},
   "outputs": [
    {
     "name": "stdout",
     "output_type": "stream",
     "text": [
      "[265.3, 208.4, 140.0, 136.4, 116.3, 109.8, 98.3, 89.2, 78.4, 70.4]\n"
     ]
    }
   ],
   "source": [
    "room_areas.reverse()\n",
    "print(room_areas)"
   ]
  }
 ],
 "metadata": {
  "kernelspec": {
   "display_name": "Python 3 (ipykernel)",
   "language": "python",
   "name": "python3"
  },
  "language_info": {
   "codemirror_mode": {
    "name": "ipython",
    "version": 3
   },
   "file_extension": ".py",
   "mimetype": "text/x-python",
   "name": "python",
   "nbconvert_exporter": "python",
   "pygments_lexer": "ipython3",
   "version": "3.11.10"
  }
 },
 "nbformat": 4,
 "nbformat_minor": 5
}

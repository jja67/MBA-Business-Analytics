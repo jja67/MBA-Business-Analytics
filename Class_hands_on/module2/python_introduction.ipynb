{
 "cells": [
  {
   "cell_type": "markdown",
   "id": "b3324c89-7ed4-4991-a003-37f315911d72",
   "metadata": {},
   "source": [
    "# Python"
   ]
  },
  {
   "cell_type": "markdown",
   "id": "5d56673c-5491-42eb-b35a-56a12107455c",
   "metadata": {},
   "source": [
    "interactive shell, scripts\n",
    "\n",
    "jupyter notebooks is somewhere in between\n",
    "- shell: you can't go back and edit what you just wrote\n",
    "- script: you have to run the whole thing, a bit harder to get \"outputs\"\n",
    "\n",
    "Also, you can format things!"
   ]
  },
  {
   "cell_type": "markdown",
   "id": "a76a27ca-59b0-4568-94df-5870dcb79eff",
   "metadata": {},
   "source": [
    "- \"shift\" + \"enter\" runs the current cell, this enters command mode.\n",
    "- press \"esc\" to enter command mode, \"enter\" (or double click) to exit it.\n",
    "- in command mode, press A to add a cell above, B to add a cell below"
   ]
  },
  {
   "cell_type": "markdown",
   "id": "0de5e142-ebb9-4edc-9816-86cc5f364194",
   "metadata": {},
   "source": [
    "## Python as a calculator"
   ]
  },
  {
   "cell_type": "code",
   "execution_count": null,
   "id": "cacdd2d3-0a8c-4766-8c7c-35a982b1715a",
   "metadata": {},
   "outputs": [],
   "source": [
    "3 + 5"
   ]
  },
  {
   "cell_type": "code",
   "execution_count": null,
   "id": "b6563845-1ce1-4e7e-9c57-2f81cf2421c4",
   "metadata": {},
   "outputs": [],
   "source": [
    "8/5 # maybe surprising, if you've used python2. (add comments with \"#\")"
   ]
  },
  {
   "cell_type": "code",
   "execution_count": null,
   "id": "800971b0-ec91-474b-8e84-80561a83c12e",
   "metadata": {},
   "outputs": [],
   "source": [
    "3 - 4\n",
    "4 * 12"
   ]
  },
  {
   "cell_type": "code",
   "execution_count": null,
   "id": "a1a1288d-33d9-47b8-988d-166b20595388",
   "metadata": {},
   "outputs": [],
   "source": [
    "print(3-4)\n",
    "print(4*12)\n",
    "print(4^3)\n",
    "print(11 + 25)\n",
    "print(2.0 + 23)"
   ]
  },
  {
   "cell_type": "markdown",
   "id": "95fc665a-4d1a-4057-b1fc-a2f58dd96f2d",
   "metadata": {},
   "source": [
    "## What??"
   ]
  },
  {
   "cell_type": "code",
   "execution_count": null,
   "id": "f3896c3d-f628-4eb9-890e-da105161da49",
   "metadata": {},
   "outputs": [],
   "source": [
    "print(4**3)"
   ]
  },
  {
   "cell_type": "markdown",
   "id": "679d5e46-3d13-48dc-a1f5-c22874314ad8",
   "metadata": {},
   "source": [
    "## Try it yourself!"
   ]
  },
  {
   "cell_type": "code",
   "execution_count": null,
   "id": "04058b25-5884-4a05-bd65-f1c0a4934f35",
   "metadata": {},
   "outputs": [],
   "source": []
  },
  {
   "cell_type": "code",
   "execution_count": null,
   "id": "3333d2a3-5f03-4ea7-a390-df52bc2d669f",
   "metadata": {},
   "outputs": [],
   "source": []
  },
  {
   "cell_type": "markdown",
   "id": "41f76f2b-436e-4701-8f0c-3c2304b50ab0",
   "metadata": {},
   "source": [
    "## Suppose I have $500 in my bank account which gets 10% interest per year. \n",
    "\n",
    "## How much will I have in 10 years?"
   ]
  },
  {
   "cell_type": "code",
   "execution_count": null,
   "id": "15508c93-38e3-456c-9a7d-0cea6e3697c1",
   "metadata": {},
   "outputs": [],
   "source": [
    "print(500 * (1.10 ** 10))"
   ]
  },
  {
   "cell_type": "code",
   "execution_count": null,
   "id": "77656816-6a8e-4fcb-a1fd-620c2f14924f",
   "metadata": {},
   "outputs": [],
   "source": [
    "print(500 * 1.10 ** 10)\n",
    "print(500 * 1.10**10)\n",
    "print(500*1.10**10)"
   ]
  },
  {
   "cell_type": "markdown",
   "id": "41de9d7a-d606-4904-a6fe-d7c3f652b9ca",
   "metadata": {},
   "source": [
    "## But:"
   ]
  },
  {
   "cell_type": "code",
   "execution_count": null,
   "id": "09b016b9-0f05-4af2-9e80-e0585f28220b",
   "metadata": {},
   "outputs": [],
   "source": [
    "print(500(1.10**10))"
   ]
  },
  {
   "cell_type": "markdown",
   "id": "42eb32f0-8a5f-46bd-a8f1-e730c3fe32f6",
   "metadata": {},
   "source": [
    "## What did those numbers mean?"
   ]
  },
  {
   "cell_type": "markdown",
   "id": "52114c59-39a6-47c5-9af5-9cf365d128d5",
   "metadata": {},
   "source": [
    "Use **variables** to help make your code clearer, make it easy to change things.\n",
    "\n",
    "### Variables\n",
    "- contain letters, numbers and underscore\n",
    "- start with letter (or underscore)\n",
    "- try to give them descriptive and ideally also short names!\n",
    "- usually written in snake_case or camelCase (pick one and be consistent!)\n",
    "\n",
    "Assign using \"=\", means \"evaluate the right hand side, store it in the variable on the left hand side\""
   ]
  },
  {
   "cell_type": "code",
   "execution_count": null,
   "id": "e8070354-a348-468b-8979-b545e50a6081",
   "metadata": {},
   "outputs": [],
   "source": [
    "starting_amount = 500\n",
    "interest = 1.10\n",
    "years = 10\n",
    "\n",
    "final_amount = starting_amount * (interest ** years)"
   ]
  },
  {
   "cell_type": "code",
   "execution_count": null,
   "id": "accb7e62-1401-4c7d-bc50-087ca93086ca",
   "metadata": {},
   "outputs": [],
   "source": [
    "print(final_amount)"
   ]
  },
  {
   "cell_type": "markdown",
   "id": "b70ae367-3403-4361-86fb-316145b89269",
   "metadata": {},
   "source": [
    "## Types\n",
    "So far, we have only seen numbers, to see the type of a variable \"x\", type \"type(x)\""
   ]
  },
  {
   "cell_type": "code",
   "execution_count": null,
   "id": "696c9e54-c6e7-4a57-861c-ee12637ec4e8",
   "metadata": {},
   "outputs": [],
   "source": [
    "print(type(starting_amount))\n",
    "print(type(interest))\n",
    "print(type(years))"
   ]
  },
  {
   "cell_type": "markdown",
   "id": "f1856d66-57b0-4532-96a7-b38bcb3fc648",
   "metadata": {},
   "source": [
    "- int means integer (whole number, positive or negative)\n",
    "- float means floating point number (real number)"
   ]
  },
  {
   "cell_type": "markdown",
   "id": "4b4fcf25-8d6f-473a-9ab3-eb7c99a5f520",
   "metadata": {},
   "source": [
    "### Strings and booleans\n",
    "- **strings** are sequences characters in single or double quotation marks\n",
    "- **booleans** are used for logical operations, can only be True or False (no quotation marks, first letter capitalized)"
   ]
  },
  {
   "cell_type": "code",
   "execution_count": null,
   "id": "42bde9c3-877d-4dd3-80ff-96662446e52c",
   "metadata": {},
   "outputs": [],
   "source": [
    "name = \"Thomas\"\n",
    "print(name)\n",
    "print(type(first_name))"
   ]
  },
  {
   "cell_type": "code",
   "execution_count": null,
   "id": "f9ff7ae0-0b41-48fe-b521-6c0546b102e9",
   "metadata": {},
   "outputs": [],
   "source": [
    "name = 'Thomas'\n",
    "print(name)"
   ]
  },
  {
   "cell_type": "code",
   "execution_count": null,
   "id": "cc33d9d5-ac34-45e5-8a70-fa1e8e772d7a",
   "metadata": {},
   "outputs": [],
   "source": [
    "name = Thomas # error"
   ]
  },
  {
   "cell_type": "code",
   "execution_count": null,
   "id": "2b171cd2-74ba-43af-982b-3a8412e328aa",
   "metadata": {},
   "outputs": [],
   "source": [
    "python_is_fun = True\n",
    "type(python_is_fun)"
   ]
  },
  {
   "cell_type": "markdown",
   "id": "dd17c92f-124a-45bc-87da-2d039c8aa94d",
   "metadata": {},
   "source": [
    "### Types decide what we can do\n",
    "Python usually lets us do most reasonable things!"
   ]
  },
  {
   "cell_type": "code",
   "execution_count": null,
   "id": "685029fe-1f53-4398-9c53-766a532be48b",
   "metadata": {},
   "outputs": [],
   "source": [
    "greeting = \"Hello\"\n",
    "name = \"Thomas\"\n",
    "print(greeting + name)"
   ]
  },
  {
   "cell_type": "code",
   "execution_count": null,
   "id": "f1c2642d-4378-4b7b-8edd-5f3fc1a22151",
   "metadata": {},
   "outputs": [],
   "source": [
    "print(greeting + 3)"
   ]
  },
  {
   "cell_type": "code",
   "execution_count": null,
   "id": "958aee6f-2cc2-4194-9cf1-d794df4d4174",
   "metadata": {},
   "outputs": [],
   "source": [
    "print(\"2\" + 3)"
   ]
  },
  {
   "cell_type": "markdown",
   "id": "ef902f4b-a4ee-4244-89de-deb73445d46c",
   "metadata": {},
   "source": [
    "### Type conversion\n",
    "- int(x) converts x to an integer (if possible)\n",
    "- str(x) converts x to a string (if possible)\n",
    "- bool(x) converts x to a boolean (if possible)\n",
    "- float(x) converts x to a floating point number (if possible)"
   ]
  },
  {
   "cell_type": "code",
   "execution_count": null,
   "id": "795fa996-32fd-4b7b-bff8-52c7b268d679",
   "metadata": {},
   "outputs": [],
   "source": [
    "print(int(\"2\") + 3)\n",
    "print(\"2\" + str(3))"
   ]
  },
  {
   "cell_type": "markdown",
   "id": "2dcd76b9-4909-4708-ae93-99ba2ca945fd",
   "metadata": {},
   "source": [
    "### Exercise\n",
    "which of the following cause an error? (if possible, fix them!)"
   ]
  },
  {
   "cell_type": "code",
   "execution_count": null,
   "id": "8be564a6-3f3e-4ffd-b96c-731e5cee411d",
   "metadata": {},
   "outputs": [],
   "source": [
    "\"I'm \" + 30 + \" years old\"\n",
    "False + True\n",
    "30 + True\n",
    "\"Hello\" + 10\n",
    "\"Hello\" * 10\n",
    "\"This is \" + True"
   ]
  }
 ],
 "metadata": {
  "kernelspec": {
   "display_name": "Python 3 (ipykernel)",
   "language": "python",
   "name": "python3"
  },
  "language_info": {
   "codemirror_mode": {
    "name": "ipython",
    "version": 3
   },
   "file_extension": ".py",
   "mimetype": "text/x-python",
   "name": "python",
   "nbconvert_exporter": "python",
   "pygments_lexer": "ipython3",
   "version": "3.13.3"
  }
 },
 "nbformat": 4,
 "nbformat_minor": 5
}
